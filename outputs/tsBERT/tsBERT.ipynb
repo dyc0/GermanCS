{
 "cells": [
  {
   "cell_type": "code",
   "execution_count": 1,
   "id": "b5acfafe",
   "metadata": {},
   "outputs": [],
   "source": [
    "# define hyperparameter grid\n",
    "learning_rates = [1e-4, 5e-5, 3e-5]\n",
    "batch_sizes = [16] #[16, 32]\n",
    "num_epochs = 4\n",
    "\n",
    "# select the window size\n",
    "window_size = 0\n",
    "\n",
    "# Danae is doing:\n",
    "#lr = [1e-4, 5e-5, 3e-5] + batch_size = [16] + num_epochs = 4 + window_size = 1\n",
    "\n",
    "# define name of the file containing the fine-tuning results\n",
    "output_filename = \"tSBERT_finetuning_results_danae_1\""
   ]
  },
  {
   "cell_type": "markdown",
   "id": "0077f87f",
   "metadata": {},
   "source": [
    "# Predicting german words using tsBERT (TongueSwitcher)"
   ]
  },
  {
   "cell_type": "code",
   "execution_count": 2,
   "id": "375b4f49",
   "metadata": {},
   "outputs": [],
   "source": [
    "%load_ext autoreload\n",
    "%autoreload 2"
   ]
  },
  {
   "cell_type": "code",
   "execution_count": 3,
   "id": "bed1ddda",
   "metadata": {},
   "outputs": [
    {
     "name": "stderr",
     "output_type": "stream",
     "text": [
      "/home/dyco/EPFL/SEMESTAR_1/ML/ml-project-2-machinesoflearning/.venv/lib/python3.11/site-packages/tqdm/auto.py:21: TqdmWarning: IProgress not found. Please update jupyter and ipywidgets. See https://ipywidgets.readthedocs.io/en/stable/user_install.html\n",
      "  from .autonotebook import tqdm as notebook_tqdm\n"
     ]
    }
   ],
   "source": [
    "import sys\n",
    "import json\n",
    "import random as rnd\n",
    "from tqdm import tqdm\n",
    "from operator import itemgetter\n",
    "\n",
    "import numpy as np\n",
    "import pandas as pd\n",
    "\n",
    "import seaborn as sns\n",
    "import matplotlib.pyplot as plt\n",
    "\n",
    "\n",
    "import torch\n",
    "from torch.optim import AdamW\n",
    "from torch.nn import CrossEntropyLoss\n",
    "import torch.nn.functional as F\n",
    "from torch.nn.functional import softmax\n",
    "from torch.utils.data import Dataset, DataLoader\n",
    "\n",
    "import transformers\n",
    "from transformers import AutoTokenizer, AutoModelForTokenClassification\n",
    "\n",
    "from sklearn.model_selection import train_test_split\n",
    "from sklearn.metrics import accuracy_score, precision_recall_fscore_support"
   ]
  },
  {
   "cell_type": "markdown",
   "id": "3077af35",
   "metadata": {},
   "source": [
    "## Loading Data"
   ]
  },
  {
   "cell_type": "code",
   "execution_count": 4,
   "id": "67df4199",
   "metadata": {},
   "outputs": [],
   "source": [
    "# Local modules import\n",
    "sys.path.append('..')"
   ]
  },
  {
   "cell_type": "code",
   "execution_count": 5,
   "id": "dfa3607d",
   "metadata": {},
   "outputs": [],
   "source": [
    "from data_loading import create_word_lists, tidy_sentence_length"
   ]
  },
  {
   "cell_type": "code",
   "execution_count": 6,
   "id": "44499252",
   "metadata": {},
   "outputs": [],
   "source": [
    "with open('../data/corpus_data.json') as json_file:\n",
    "    data = json.load(json_file)\n",
    "records = data['records']"
   ]
  },
  {
   "cell_type": "code",
   "execution_count": 7,
   "id": "6fe5332f",
   "metadata": {},
   "outputs": [],
   "source": [
    "human_transcripts = [entry['human_transcript'] for entry in records]\n",
    "stt_transcripts   = [entry['stt_transcript'] for entry in records]"
   ]
  },
  {
   "cell_type": "code",
   "execution_count": 8,
   "id": "6104a0cc",
   "metadata": {},
   "outputs": [],
   "source": [
    "# human-transcribed words, STT transcribed words, language labels, semantical errors, grammatical errors\n",
    "human_words, stt_words, word_labels, word_grams, word_sems = \\\n",
    "    create_word_lists(records)"
   ]
  },
  {
   "cell_type": "code",
   "execution_count": 9,
   "id": "4fbc9501",
   "metadata": {},
   "outputs": [],
   "source": [
    "stt_transcripts, stt_words, labels, word_grams, word_sems = \\\n",
    "    tidy_sentence_length(stt_transcripts, stt_words, word_labels, word_grams, word_sems)"
   ]
  },
  {
   "cell_type": "code",
   "execution_count": 10,
   "id": "dd8cf601",
   "metadata": {},
   "outputs": [],
   "source": [
    "labels = [[1 if label else 0 for label in record_labels] for record_labels in labels]"
   ]
  },
  {
   "cell_type": "markdown",
   "id": "06ea0698",
   "metadata": {},
   "source": [
    "## Quick Data Exploration"
   ]
  },
  {
   "cell_type": "code",
   "execution_count": 11,
   "id": "9af919bf",
   "metadata": {},
   "outputs": [
    {
     "name": "stdout",
     "output_type": "stream",
     "text": [
      "There are 6723 records in total.\n"
     ]
    }
   ],
   "source": [
    "print(f\"There are {len(records)} records in total.\")"
   ]
  },
  {
   "cell_type": "code",
   "execution_count": 12,
   "id": "c01a46f0",
   "metadata": {},
   "outputs": [],
   "source": [
    "nb_words_per_record = [len(record['words']) for record in records]"
   ]
  },
  {
   "cell_type": "code",
   "execution_count": 13,
   "id": "17d432f6",
   "metadata": {},
   "outputs": [
    {
     "name": "stdout",
     "output_type": "stream",
     "text": [
      "The minimum number of words in any transcript is 1.\n",
      "The maximum number of words in any transcript is 517.\n",
      "The median number of words across all transcripts is 6.\n"
     ]
    }
   ],
   "source": [
    "print(f\"The minimum number of words in any transcript is {min(nb_words_per_record)}.\")\n",
    "print(f\"The maximum number of words in any transcript is {max(nb_words_per_record)}.\")\n",
    "print(f\"The median number of words across all transcripts is {int(np.median(nb_words_per_record))}.\")"
   ]
  },
  {
   "cell_type": "code",
   "execution_count": 14,
   "id": "c75c4c9c",
   "metadata": {},
   "outputs": [
    {
     "data": {
      "text/plain": [
       "<Figure size 600x400 with 0 Axes>"
      ]
     },
     "metadata": {},
     "output_type": "display_data"
    },
    {
     "data": {
      "image/png": "[encoded data removed]",
      "text/plain": [
       "<Figure size 900x300 with 1 Axes>"
      ]
     },
     "metadata": {},
     "output_type": "display_data"
    }
   ],
   "source": [
    "# plot the distribution of word counts\n",
    "plt.figure(figsize=(6, 4))\n",
    "sns.displot(nb_words_per_record, orientation='horizontal', height=3, aspect=3)\n",
    "plt.xlim(1, 100)\n",
    "plt.show()"
   ]
  },
  {
   "cell_type": "code",
   "execution_count": 15,
   "id": "eeb5a483",
   "metadata": {},
   "outputs": [],
   "source": [
    "def calculate_label_proportions(labels):\n",
    "    total_tokens = sum(len(label_list) for label_list in labels)\n",
    "    german_tokens = sum(label for label_list in labels for label in label_list)\n",
    "    german_proportion = german_tokens / total_tokens\n",
    "    return german_proportion, total_tokens"
   ]
  },
  {
   "cell_type": "code",
   "execution_count": 16,
   "id": "9249423c",
   "metadata": {},
   "outputs": [
    {
     "name": "stdout",
     "output_type": "stream",
     "text": [
      "There are 62305 words in total out of which only 3.00% are german.\n"
     ]
    }
   ],
   "source": [
    "german_proportion, total_tokens = calculate_label_proportions(word_labels)\n",
    "print(f\"There are {total_tokens} words in total out of which only {german_proportion*100:.2f}% are german.\")"
   ]
  },
  {
   "cell_type": "markdown",
   "id": "829d467c",
   "metadata": {},
   "source": [
    "## Data Preprocessing and Data Labelling"
   ]
  },
  {
   "cell_type": "code",
   "execution_count": 17,
   "id": "3179f12e",
   "metadata": {},
   "outputs": [],
   "source": [
    "# load the tsBERT model and the tokenizer\n",
    "model_name = \"igorsterner/german-english-code-switching-identification\"\n",
    "model = AutoModelForTokenClassification.from_pretrained(model_name)\n",
    "tokenizer = AutoTokenizer.from_pretrained(model_name)"
   ]
  },
  {
   "cell_type": "markdown",
   "id": "9ebf2488",
   "metadata": {},
   "source": [
    "### Incorporating Artificial Data"
   ]
  },
  {
   "cell_type": "markdown",
   "id": "309e2f75",
   "metadata": {},
   "source": [
    "=> TO DO"
   ]
  },
  {
   "cell_type": "markdown",
   "id": "9a84340e",
   "metadata": {},
   "source": [
    "### Transcripts Processing\n",
    "--> how individual records are prepared for BERT"
   ]
  },
  {
   "cell_type": "code",
   "execution_count": 18,
   "id": "8169c4a0",
   "metadata": {},
   "outputs": [],
   "source": [
    "def create_contextual_input_with_labels(transcripts, labels, window_size=1, sep_token='[SEP]'):\n",
    "    \"\"\"\n",
    "    Create contextual input with labels, setting labels of context to -100.\n",
    "\n",
    "    Args:\n",
    "        transcripts (list of list of str): List of tokenized transcripts.\n",
    "        labels (list of list of int): List of labels for each transcript.\n",
    "        window_size (int): Size of the context window.\n",
    "        sep_token (str): Token used for separating sentences.\n",
    "\n",
    "    Returns:\n",
    "        tuple: Tuple containing modified transcripts and their corresponding labels.\n",
    "    \"\"\"\n",
    "    if window_size == 0:\n",
    "        return transcripts, labels\n",
    "\n",
    "    contextual_transcripts = []\n",
    "    contextual_labels = []\n",
    "\n",
    "    for i, (transcript, label) in enumerate(zip(transcripts, labels)):\n",
    "        # concatenate previous, current, and next transcripts within the window size\n",
    "        start_idx = max(i - window_size, 0)\n",
    "        end_idx = min(i + window_size + 1, len(transcripts))\n",
    "        \n",
    "        # prepare new transcript and labels\n",
    "        new_transcript = []\n",
    "        new_label = []\n",
    "\n",
    "        for j in range(start_idx, end_idx):\n",
    "            # intersperse the transcript with defined separator tokens ('.', [SEP], ...)\n",
    "            new_transcript.extend(transcripts[j] + [sep_token])\n",
    "            # extend labels with -100 for context transcripts, retain original for current\n",
    "            new_label.extend([-100] * len(transcripts[j]) if j != i else labels[j])\n",
    "            new_label.append(-100)  # for the SEP token\n",
    "\n",
    "        new_transcript.pop()  # remove the last SEP token\n",
    "        new_label.pop()       # remove the last label\n",
    "\n",
    "        contextual_transcripts.append(new_transcript)\n",
    "        contextual_labels.append(new_label)\n",
    "\n",
    "    return contextual_transcripts, contextual_labels"
   ]
  },
  {
   "cell_type": "code",
   "execution_count": 19,
   "id": "5e9f5650",
   "metadata": {},
   "outputs": [],
   "source": [
    "def preprocess_labels(tokenized_inputs, input_labels):\n",
    "    \"\"\"\n",
    "    Preprocess labels based on tsBERT tokenization.\n",
    "\n",
    "    Args:\n",
    "        tokenized_inputs (transformers.TokenizerOutput): Tokenized inputs.\n",
    "        input_labels (list): Original labels for each input.\n",
    "\n",
    "    Returns:\n",
    "        list: Preprocessed labels for each tokenized input.\n",
    "    \"\"\"\n",
    "    tsBERT_labels = []\n",
    "\n",
    "    for i, _ in enumerate(tokenized_inputs.input_ids):\n",
    "        # get the word indices from original inputs\n",
    "        word_indices = tokenized_inputs.word_ids(batch_index=i)\n",
    "        # get the labels of the current record\n",
    "        record_labels = input_labels[i]\n",
    "        # initialize a list to store the new labels for this record\n",
    "        new_record_labels = []\n",
    "\n",
    "        for word_idx in word_indices:\n",
    "            # check if the word index is None => indicates a special token (e.g., [CLS], [SEP], [PAD])\n",
    "            if word_idx is None:\n",
    "                new_record_labels.append(-100)\n",
    "            # otherwise, retrieve the label corresponding to this word index from the record labels\n",
    "            else:\n",
    "                new_record_labels.append(record_labels[word_idx])\n",
    "\n",
    "        tsBERT_labels.append(new_record_labels)\n",
    "\n",
    "    return tsBERT_labels"
   ]
  },
  {
   "cell_type": "code",
   "execution_count": 20,
   "id": "5cbe3b7d",
   "metadata": {},
   "outputs": [],
   "source": [
    "# select the window size\n",
    "#window_size = 1\n",
    "\n",
    "# compute the contextual input with labels\n",
    "contextual_stt_input, contextual_labels = create_contextual_input_with_labels(stt_words, labels, window_size=window_size)"
   ]
  },
  {
   "cell_type": "code",
   "execution_count": 21,
   "id": "e13acaf5",
   "metadata": {},
   "outputs": [],
   "source": [
    "# set the desired total length for BERT embeddings (to make sure they are the same between train-validation-test sets)\n",
    "max_length = 268  # set the desired total length\n",
    "\n",
    "# tokenize the STT-transcribed transcripts using the BERT tokenizer\n",
    "tokenized_inputs = tokenizer(contextual_stt_input, \n",
    "                             truncation=True, \n",
    "                             #padding=True,\n",
    "                             padding=\"max_length\", \n",
    "                             is_split_into_words=True,\n",
    "                             max_length=max_length)"
   ]
  },
  {
   "cell_type": "markdown",
   "id": "bf7b5361",
   "metadata": {},
   "source": [
    "### Label Alignement\n",
    "- we adjust the labels: since we add context (neighbour transcripts) and [SEP] tokens as input the the model, we also also need to adjust out labels to align with the new token structure.\n",
    "- we assign an ignore index (-100) to these separator tokens since they don't carry meaningful language labels."
   ]
  },
  {
   "cell_type": "code",
   "execution_count": 22,
   "id": "5eeeab75",
   "metadata": {},
   "outputs": [],
   "source": [
    "# align the labels so that they are suitable for the tsBERT model\n",
    "tsBERT_labels = preprocess_labels(tokenized_inputs, contextual_labels)"
   ]
  },
  {
   "cell_type": "markdown",
   "id": "fb6e7407",
   "metadata": {},
   "source": [
    "### Homophone-Enriched Sentences"
   ]
  },
  {
   "cell_type": "markdown",
   "id": "552a3a59",
   "metadata": {},
   "source": [
    "=> TO DO"
   ]
  },
  {
   "cell_type": "markdown",
   "id": "2510a2b2",
   "metadata": {},
   "source": [
    "## Train-Validation-Test Split"
   ]
  },
  {
   "cell_type": "markdown",
   "id": "90fa5d59",
   "metadata": {},
   "source": [
    "We need to extract which sentences contain German words in order to stratify the data split:"
   ]
  },
  {
   "cell_type": "code",
   "execution_count": 23,
   "id": "ac99f37f",
   "metadata": {},
   "outputs": [],
   "source": [
    "# !!!!!!!!!!!\n",
    "#stt_transcripts = stt_transcripts[:500]\n",
    "#contextual_stt_input = contextual_stt_input[:500]\n",
    "#tsBERT_labels = tsBERT_labels[:500]"
   ]
  },
  {
   "cell_type": "code",
   "execution_count": 24,
   "id": "5edb649f",
   "metadata": {},
   "outputs": [],
   "source": [
    "stat_labels = [[True if (label == 1) else False for label in record_labels] for record_labels in tsBERT_labels]\n",
    "stat_labels = np.any(stat_labels, axis=1)"
   ]
  },
  {
   "cell_type": "markdown",
   "id": "5d13618a",
   "metadata": {},
   "source": [
    "Here, we split only indices and not data itself:"
   ]
  },
  {
   "cell_type": "code",
   "execution_count": 25,
   "id": "244d8d19",
   "metadata": {},
   "outputs": [],
   "source": [
    "indices = list(range(len(stt_transcripts)))\n",
    "tr_indices, te_indices = train_test_split(indices, test_size=0.2, random_state=0, shuffle=True, stratify=stat_labels)"
   ]
  },
  {
   "cell_type": "code",
   "execution_count": 26,
   "id": "7f336d4a",
   "metadata": {},
   "outputs": [],
   "source": [
    "extract_train = itemgetter(*tr_indices)\n",
    "extract_test  = itemgetter(*te_indices)"
   ]
  },
  {
   "cell_type": "code",
   "execution_count": 27,
   "id": "4bb4447b",
   "metadata": {},
   "outputs": [],
   "source": [
    "tr_contextual_stt_input = list(extract_train(contextual_stt_input))\n",
    "tr_tsBERT_labels        = list(extract_train(tsBERT_labels))\n",
    "# - - - - - - - - - - - - - - - - - - - - - - - - - - - - - - - -\n",
    "te_contextual_stt_input = list(extract_test(contextual_stt_input))\n",
    "te_tsBERT_labels        = list(extract_test(tsBERT_labels))"
   ]
  },
  {
   "cell_type": "markdown",
   "id": "c2787f13",
   "metadata": {},
   "source": [
    "## tsBERT Fine-tuning"
   ]
  },
  {
   "cell_type": "code",
   "execution_count": 28,
   "id": "85e98584",
   "metadata": {},
   "outputs": [],
   "source": [
    "class STTDataset(Dataset):\n",
    "    def __init__(self, encodings, labels):\n",
    "        self.encodings = encodings\n",
    "        self.labels = labels\n",
    "\n",
    "    def __getitem__(self, idx):\n",
    "        item = {key: torch.tensor(val[idx]) for key, val in self.encodings.items()}\n",
    "        item['labels'] = torch.tensor(self.labels[idx])\n",
    "        return item\n",
    "\n",
    "    def __len__(self):\n",
    "        return len(self.labels)"
   ]
  },
  {
   "cell_type": "code",
   "execution_count": 29,
   "id": "bf388a50",
   "metadata": {},
   "outputs": [],
   "source": [
    "# set the desired total length for BERT embeddings (to make sure they are the same between train-validation-test sets)\n",
    "max_length = 268  # set the desired total length\n",
    "\n",
    "train_inputs = tokenizer(tr_contextual_stt_input, \n",
    "                         truncation=True, \n",
    "                         #padding=True,\n",
    "                         padding=\"max_length\", \n",
    "                         is_split_into_words=True,\n",
    "                         max_length=max_length)\n",
    "#validation_inputs = tokenizer(val_contextual_stt_input, truncation=True, padding=True, is_split_into_words=True)\n",
    "validation_inputs = tokenizer(te_contextual_stt_input, \n",
    "                              truncation=True, \n",
    "                              padding=\"max_length\", \n",
    "                              is_split_into_words=True,\n",
    "                              max_length=max_length)\n",
    "test_inputs = tokenizer(te_contextual_stt_input, \n",
    "                        truncation=True, \n",
    "                        padding=\"max_length\", \n",
    "                        is_split_into_words=True,\n",
    "                        max_length=max_length)\n",
    "\n",
    "#train_labels = preprocess_labels(train_inputs, train_labels)\n",
    "#validation_labels = preprocess_labels(validation_inputs, val_labels)\n",
    "#test_labels = preprocess_labels(test_inputs, test_labels)\n",
    "\n",
    "train_labels = tr_tsBERT_labels\n",
    "#validation_labels = val_tsBERT_labels\n",
    "validation_labels = te_tsBERT_labels\n",
    "test_labels = te_tsBERT_labels"
   ]
  },
  {
   "cell_type": "code",
   "execution_count": 30,
   "id": "64582dcb",
   "metadata": {},
   "outputs": [],
   "source": [
    "# convert the tokenized input and label sets into a format suitable for training (datasets)\n",
    "train_dataset = STTDataset(train_inputs, train_labels)\n",
    "validation_dataset = STTDataset(validation_inputs, validation_labels)\n",
    "test_dataset = STTDataset(test_inputs, test_labels)"
   ]
  },
  {
   "cell_type": "markdown",
   "id": "2f8faa1f",
   "metadata": {},
   "source": [
    "### Hyperparameter Tuning"
   ]
  },
  {
   "cell_type": "code",
   "execution_count": 31,
   "id": "43f914f2",
   "metadata": {},
   "outputs": [],
   "source": [
    "# define hyperparameter grid\n",
    "recommended_learning_rates = [1e-4, 5e-5, 3e-5] # BERT authors recommend 3e-4, 1e-4, 5e-5, 3e-5\n",
    "recommended_batch_sizes = [8, 16, 32] # BERT authors recommend 8, 16, 32, 64, 128\n",
    "recommended_num_epochs = 5"
   ]
  },
  {
   "cell_type": "code",
   "execution_count": 32,
   "id": "72869a59",
   "metadata": {},
   "outputs": [],
   "source": [
    "def train_and_validate(model, train_loader, validation_loader, num_epochs, optimizer, loss_function, device):\n",
    "\n",
    "    results = []\n",
    "    \n",
    "    print(\"Training\")\n",
    "    for epoch in range(num_epochs):\n",
    "        \n",
    "        print(f\"Epoch {epoch+1}/{num_epochs}\")\n",
    "        \n",
    "        # train/fine-tune the model\n",
    "        model.train()\n",
    "        total_train_loss = 0\n",
    "\n",
    "        # Training loop\n",
    "        for batch in tqdm(train_loader):\n",
    "            \n",
    "            # forward pass\n",
    "            input_ids = batch['input_ids'].to(device)\n",
    "            attention_mask = batch['attention_mask'].to(device)\n",
    "            labels = batch['labels'].to(device)\n",
    "            \n",
    "            # clear previous gradients\n",
    "            optimizer.zero_grad()\n",
    "            outputs = model(input_ids, attention_mask=attention_mask, labels=labels)\n",
    "\n",
    "            # compute loss and backpropagate\n",
    "            loss = outputs.loss\n",
    "            total_train_loss += loss.item()\n",
    "            loss.backward()\n",
    "            optimizer.step()\n",
    "\n",
    "        avg_train_loss = total_train_loss / len(train_loader)\n",
    "\n",
    "        print(\"Evaluating on validation set\")\n",
    "        \n",
    "        # Validation loop\n",
    "        validation_results = evaluate(model, validation_loader)\n",
    "        validation_results['epoch'] = epoch\n",
    "        validation_results['avg_train_loss'] = avg_train_loss\n",
    "\n",
    "        print(f\"Train Loss: {validation_results['avg_train_loss']}, Val Loss: {validation_results['avg_test_loss']}\")\n",
    "        \n",
    "        results.append(validation_results)\n",
    "\n",
    "    return results"
   ]
  },
  {
   "cell_type": "code",
   "execution_count": 33,
   "id": "5f98e168",
   "metadata": {},
   "outputs": [],
   "source": [
    "def evaluate(model, test_loader):\n",
    "\n",
    "    # evaluate the model\n",
    "    model.eval()\n",
    "\n",
    "    # initialize lists to store predictions and true labels\n",
    "    true_labels = []\n",
    "    predictions = []\n",
    "    total_loss = 0\n",
    "\n",
    "    # disable gradient calculation\n",
    "    with torch.no_grad():\n",
    "        for batch in test_loader:\n",
    "            input_ids = batch['input_ids']\n",
    "            attention_mask = batch['attention_mask']\n",
    "            labels = batch['labels']\n",
    "\n",
    "            # forward pass, get predictions\n",
    "            outputs = model(input_ids, attention_mask=attention_mask, labels=labels)\n",
    "            loss = outputs.loss\n",
    "            total_loss += loss.item()\n",
    "\n",
    "            logits = outputs.logits\n",
    "\n",
    "            # apply softmax to convert logits to probabilities\n",
    "            probabilities = F.softmax(logits, dim=-1)\n",
    "\n",
    "            # iterate over each record in the batch\n",
    "            for i in range(logits.shape[0]): # logits.shape[0] is the batch size\n",
    "                # retrieve the probas\n",
    "                record_probas = probabilities[i]\n",
    "                record_predictions = []\n",
    "\n",
    "                # keep track of the true labels corresponding to the predictions\n",
    "                record_true_labels = labels[i][labels[i] != -100]  # exclude special tokens\n",
    "                true_labels.append(record_true_labels.cpu().numpy())\n",
    "\n",
    "                # iterate over each token\n",
    "                for token_idx, label in enumerate(labels[i]):\n",
    "                    if (label == -100):\n",
    "                        continue\n",
    "                    # get the most probable class and its score for this token\n",
    "                    token_probas = record_probas[token_idx]\n",
    "                    max_idx = torch.argmax(token_probas).item()\n",
    "                    max_proba = token_probas[max_idx].item()\n",
    "\n",
    "                    record_predictions.append([model.config.id2label[max_idx], max_proba])\n",
    "\n",
    "                predictions.append(record_predictions)\n",
    "    \n",
    "    avg_loss = total_loss / len(test_loader)\n",
    "    \n",
    "    \n",
    "    # flatten the predictions and convert them to binary format\n",
    "    predicted_labels = [0 if pred[0] == 'E' else 1 for record_predictions in predictions for pred in record_predictions]\n",
    "    flattened_true_labels = [label for record_labels in true_labels for label in record_labels]\n",
    "\n",
    "    # ensure that true and predicted labels are correctly aligned\n",
    "    if len(predicted_labels) != len(flattened_true_labels):\n",
    "        raise ValueError(\"The length of predicted labels and true labels must be the same.\")\n",
    "        \n",
    "    # compute evaluation metrics\n",
    "    accuracy = accuracy_score(flattened_true_labels, predicted_labels)\n",
    "    precision, recall, f1, _ = precision_recall_fscore_support(flattened_true_labels, predicted_labels, average='binary')\n",
    "\n",
    "\n",
    "    return {'avg_test_loss': avg_loss, 'accuracy': accuracy, 'precision': precision, 'recall': recall, 'f1': f1}"
   ]
  },
  {
   "cell_type": "code",
   "execution_count": 34,
   "id": "6e5c396b",
   "metadata": {},
   "outputs": [
    {
     "name": "stdout",
     "output_type": "stream",
     "text": [
      "Training\n",
      "Epoch 1/4\n"
     ]
    },
    {
     "name": "stderr",
     "output_type": "stream",
     "text": [
      "100%|██████████| 340/340 [53:34<00:00,  9.45s/it]\n"
     ]
    },
    {
     "name": "stdout",
     "output_type": "stream",
     "text": [
      "Evaluating on validation set\n",
      "Train Loss: 0.16114691844867432, Val Loss: 0.12261676036697977\n",
      "Epoch 2/4\n"
     ]
    },
    {
     "name": "stderr",
     "output_type": "stream",
     "text": [
      "100%|██████████| 340/340 [43:14<00:00,  7.63s/it]\n"
     ]
    },
    {
     "name": "stdout",
     "output_type": "stream",
     "text": [
      "Evaluating on validation set\n",
      "Train Loss: 0.09362336673965568, Val Loss: 0.12912027050247965\n",
      "Epoch 3/4\n"
     ]
    },
    {
     "name": "stderr",
     "output_type": "stream",
     "text": [
      "100%|██████████| 340/340 [42:47<00:00,  7.55s/it]\n"
     ]
    },
    {
     "name": "stdout",
     "output_type": "stream",
     "text": [
      "Evaluating on validation set\n",
      "Train Loss: 0.062024360547965285, Val Loss: 0.15707223415648675\n",
      "Epoch 4/4\n"
     ]
    },
    {
     "name": "stderr",
     "output_type": "stream",
     "text": [
      "100%|██████████| 340/340 [42:46<00:00,  7.55s/it]\n"
     ]
    },
    {
     "name": "stdout",
     "output_type": "stream",
     "text": [
      "Evaluating on validation set\n",
      "Train Loss: 0.04300860258808825, Val Loss: 0.17796752422856277\n",
      "Training\n",
      "Epoch 1/4\n"
     ]
    },
    {
     "name": "stderr",
     "output_type": "stream",
     "text": [
      "100%|██████████| 340/340 [42:41<00:00,  7.53s/it]\n"
     ]
    },
    {
     "name": "stdout",
     "output_type": "stream",
     "text": [
      "Evaluating on validation set\n",
      "Train Loss: 0.17521346253753803, Val Loss: 0.12221390839446994\n",
      "Epoch 2/4\n"
     ]
    },
    {
     "name": "stderr",
     "output_type": "stream",
     "text": [
      "100%|██████████| 340/340 [42:40<00:00,  7.53s/it]\n"
     ]
    },
    {
     "name": "stdout",
     "output_type": "stream",
     "text": [
      "Evaluating on validation set\n",
      "Train Loss: 0.09620104452102061, Val Loss: 0.12526940244304782\n",
      "Epoch 3/4\n"
     ]
    },
    {
     "name": "stderr",
     "output_type": "stream",
     "text": [
      "100%|██████████| 340/340 [42:35<00:00,  7.52s/it]\n"
     ]
    },
    {
     "name": "stdout",
     "output_type": "stream",
     "text": [
      "Evaluating on validation set\n",
      "Train Loss: 0.06231897432863822, Val Loss: 0.13041170490905643\n",
      "Epoch 4/4\n"
     ]
    },
    {
     "name": "stderr",
     "output_type": "stream",
     "text": [
      "100%|██████████| 340/340 [42:29<00:00,  7.50s/it]\n"
     ]
    },
    {
     "name": "stdout",
     "output_type": "stream",
     "text": [
      "Evaluating on validation set\n",
      "Train Loss: 0.04137560426230159, Val Loss: 0.16249980701078826\n",
      "Training\n",
      "Epoch 1/4\n"
     ]
    },
    {
     "name": "stderr",
     "output_type": "stream",
     "text": [
      "100%|██████████| 340/340 [42:32<00:00,  7.51s/it]\n"
     ]
    },
    {
     "name": "stdout",
     "output_type": "stream",
     "text": [
      "Evaluating on validation set\n",
      "Train Loss: 0.18779838501530535, Val Loss: 0.12277186265324845\n",
      "Epoch 2/4\n"
     ]
    },
    {
     "name": "stderr",
     "output_type": "stream",
     "text": [
      "100%|██████████| 340/340 [42:28<00:00,  7.50s/it]\n"
     ]
    },
    {
     "name": "stdout",
     "output_type": "stream",
     "text": [
      "Evaluating on validation set\n",
      "Train Loss: 0.10138605642954217, Val Loss: 0.12526628781548318\n",
      "Epoch 3/4\n"
     ]
    },
    {
     "name": "stderr",
     "output_type": "stream",
     "text": [
      "100%|██████████| 340/340 [42:29<00:00,  7.50s/it]\n"
     ]
    },
    {
     "name": "stdout",
     "output_type": "stream",
     "text": [
      "Evaluating on validation set\n",
      "Train Loss: 0.07468047661652022, Val Loss: 0.13596763631109807\n",
      "Epoch 4/4\n"
     ]
    },
    {
     "name": "stderr",
     "output_type": "stream",
     "text": [
      "100%|██████████| 340/340 [42:28<00:00,  7.50s/it]\n"
     ]
    },
    {
     "name": "stdout",
     "output_type": "stream",
     "text": [
      "Evaluating on validation set\n",
      "Train Loss: 0.05013317557202433, Val Loss: 0.15618516377666417\n"
     ]
    }
   ],
   "source": [
    "# storage for all model results\n",
    "all_results = []\n",
    "\n",
    "# hyperparameter Tuning Loop\n",
    "for lr in learning_rates:\n",
    "    for batch_size in batch_sizes:\n",
    "        # initialize model, optimizer, and loss function for each combination\n",
    "        model = AutoModelForTokenClassification.from_pretrained(model_name)\n",
    "        optimizer = AdamW(model.parameters(), lr=lr)\n",
    "        loss_function = CrossEntropyLoss(ignore_index=-100)\n",
    "        \n",
    "        # GPU Acceleration\n",
    "        #device = torch.device(\"cuda\" if torch.cuda.is_available() else \"cpu\")\n",
    "        device = torch.device(\"cpu\")\n",
    "        model = model.to(device)\n",
    "\n",
    "        # prepare the DataLoaders\n",
    "        train_loader = DataLoader(train_dataset, batch_size=batch_size, shuffle=True)\n",
    "        validation_loader = DataLoader(validation_dataset, batch_size=batch_size)\n",
    "        test_loader = DataLoader(test_dataset, batch_size=batch_size)\n",
    "\n",
    "        # train and validate the model\n",
    "        results = train_and_validate(model, train_loader, validation_loader, num_epochs, optimizer, loss_function, device)\n",
    "        \n",
    "        # store results\n",
    "        all_results.append([lr, batch_size, results])"
   ]
  },
  {
   "cell_type": "code",
   "execution_count": 35,
   "id": "e2ae977d",
   "metadata": {},
   "outputs": [],
   "source": [
    "# convert the list of results to a pandas DataFrame\n",
    "all_results_df = pd.DataFrame.from_records([{\n",
    "    'learning_rate': lr,\n",
    "    'batch_size': bs,\n",
    "    'epoch': r['epoch'],\n",
    "    'train_loss': r['avg_train_loss'],\n",
    "    'val_loss': r['avg_test_loss'],\n",
    "    'val_accuracy': r['accuracy'],\n",
    "    'val_precision': r['precision'],\n",
    "    'val_recall': r['recall'],\n",
    "    'val_f1': r['f1']\n",
    "} for lr, bs, result_list in all_results for r in result_list])\n",
    "\n",
    "# save to CSV\n",
    "all_results_df.to_csv('../data/' + output_filename + '.csv', index=False)"
   ]
  },
  {
   "cell_type": "code",
   "execution_count": null,
   "id": "c5aebb72",
   "metadata": {},
   "outputs": [],
   "source": []
  },
  {
   "cell_type": "code",
   "execution_count": 36,
   "id": "a5b33cf1",
   "metadata": {},
   "outputs": [],
   "source": [
    "#model.save_pretrained(\"./finetuned_tsbert_lr_\" + str(lr) + \"batch_size_\" + str(batch_size))\n",
    "#tokenizer.save_pretrained(\"./finetuned_tsbert_lr_\" + str(lr) + \"batch_size_\" + str(batch_size))"
   ]
  }
 ],
 "metadata": {
  "kernelspec": {
   "display_name": ".venv",
   "language": "python",
   "name": "python3"
  },
  "language_info": {
   "codemirror_mode": {
    "name": "ipython",
    "version": 3
   },
   "file_extension": ".py",
   "mimetype": "text/x-python",
   "name": "python",
   "nbconvert_exporter": "python",
   "pygments_lexer": "ipython3",
   "version": "3.11.6"
  }
 },
 "nbformat": 4,
 "nbformat_minor": 5
}
